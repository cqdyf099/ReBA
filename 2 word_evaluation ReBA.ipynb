{
 "cells": [
  {
   "cell_type": "code",
   "execution_count": 1,
   "id": "64464f37-25a4-47ad-9aa7-e212e58eebc6",
   "metadata": {},
   "outputs": [],
   "source": [
    "import os\n",
    "import pandas as pd\n",
    "import transformers\n",
    "import torch\n",
    "import numpy as np\n",
    "from Code.utinity import *\n",
    "from Code.models import *\n",
    "\n",
    "from tqdm import tqdm"
   ]
  },
  {
   "cell_type": "code",
   "execution_count": 2,
   "id": "800f3c6d-dc4b-42bd-92b6-ea72cbf2b9ce",
   "metadata": {},
   "outputs": [],
   "source": [
    "class LLM_u(LLM):\n",
    "    def get_attention_matrix(self,outputs):\n",
    "        A = 0\n",
    "        for layer in range(len(outputs.attentions)):\n",
    "            X = outputs.attentions[layer][0].to(torch.float32).cpu().detach().numpy()\n",
    "            for i in range(len(X)):\n",
    "                Ai = (X[i] + X[i].T)/2\n",
    "               \n",
    "                A = (A+Ai)/2 + abs(A-Ai)/2\n",
    "       \n",
    "        A = np.triu(A)\n",
    "        return A"
   ]
  },
  {
   "cell_type": "markdown",
   "id": "5dc43ba7-3c39-49d9-b89c-2d6f15ae6c1e",
   "metadata": {},
   "source": [
    "## 算法设定\n",
    "\n",
    "以 Llama2 为基础模型，比较现有算法（baseline）和我们设计的算法（ours）"
   ]
  },
  {
   "cell_type": "code",
   "execution_count": 3,
   "id": "dffbfd63-071d-45af-8fef-95a52665477a",
   "metadata": {},
   "outputs": [
    {
     "name": "stdout",
     "output_type": "stream",
     "text": [
      "bert 调用成功!\n"
     ]
    }
   ],
   "source": [
    "model_name = 'bert'\n",
    "llm = LLM_u(model_name,load_model=True)\n",
    "# llm = LLM_u('gpt2',load_model=True)\n",
    "llm.model_name = model_name + 'uu_test'\n",
    "solver_baseline = Solver_Baseline(llm)\n",
    "# solver_ours_v = Solver_Ours(llm, repeat=1, shift=False, attention=True)\n",
    "# solver_ours_vv = Solver_Ours(llm, repeat=2, shift=False, attention=True)\n",
    "# solver_ours_vvv = Solver_Ours(llm, repeat=3, shift=False, attention=True)\n",
    "# solver_ours_vvvv = Solver_Ours(llm, repeat=4, shift=False, attention=True)\n",
    "# solver_ours_vvvvv = Solver_Ours(llm, repeat=5, shift=False, attention=True)\n",
    "# solvers = [solver_baseline,solver_ours_v,solver_ours_vv,solver_ours_vvv,solver_ours_vvvv,solver_ours_vvvvv]\n",
    "# solvers = [solver_ours_v,solver_ours_vv,solver_ours_vvv]\n",
    "solvers = [solver_baseline]"
   ]
  },
  {
   "cell_type": "markdown",
   "id": "11b5a9fa-a236-48b7-b20b-f7b2313d8cf4",
   "metadata": {},
   "source": [
    "## 算法验证"
   ]
  },
  {
   "cell_type": "code",
   "execution_count": 4,
   "id": "83619f50-4c36-46b1-9edd-fb45ffba5e03",
   "metadata": {},
   "outputs": [],
   "source": [
    "results = {}\n",
    "accuracy = {}\n",
    "# def RunEval(problem,use_temp=True):\n",
    "def RunEval(problem,use_temp=True):\n",
    "    results[problem.name] = []\n",
    "    accuracy[problem.name] = []\n",
    "    for i,solver in enumerate(solvers):\n",
    "        # if i == 3:\n",
    "        #     use_temp = False\n",
    "        evaluation = Evaluation(problem,solver,later=False,use_temp=use_temp)\n",
    "        df1,df2 = evaluation.save(filename='result/'+problem.name+'_'+solver.name+'.xlsx')\n",
    "        results[problem.name].append(df1)\n",
    "        accuracy[problem.name].append(df2)\n",
    "    # accuracy[problem.name] = pd.concat([df2,df4],axis=1).T # 添加结果\n",
    "    return pd.concat(accuracy[problem.name],axis=1).T"
   ]
  },
  {
   "cell_type": "markdown",
   "id": "e8adb696-771c-45e2-bb89-6ac87d510876",
   "metadata": {},
   "source": [
    "### 数据集 1: SLPWC"
   ]
  },
  {
   "cell_type": "code",
   "execution_count": 5,
   "id": "037d3ae7-83b0-4faa-a37a-a6a993dac4f7",
   "metadata": {},
   "outputs": [
    {
     "name": "stdout",
     "output_type": "stream",
     "text": [
      "利用 bertuu_test_baseline 计算目标词的向量嵌入：\n"
     ]
    },
    {
     "data": {
      "application/vnd.jupyter.widget-view+json": {
       "model_id": "91a8fba86292448e90a95344703d04ed",
       "version_major": 2,
       "version_minor": 0
      },
      "text/plain": [
       "  0%|          | 0/300 [00:00<?, ?it/s]"
      ]
     },
     "metadata": {},
     "output_type": "display_data"
    },
    {
     "name": "stdout",
     "output_type": "stream",
     "text": [
      "没有找到词: emo “emo”是一种与朋克相似的摇滚乐，最初从HardcorePunk(硬核朋克)中派生出来，但包含更为复杂的改编曲，歌词更多触及情感主题。\n",
      "没有找到词: emo 以后不在朋友圈装emo了，其实我这个长相，根本没有那么多感情问题\n",
      "没有找到词: emo 明天开学要分班，狠狠emo了。\n",
      "没有找到词: emo 我emo了，有一瞬间我想过死亡。\n",
      "保存文件： Temp/temp_embeddings_SLPWC_bertuu_test_baseline.dat\n"
     ]
    },
    {
     "data": {
      "text/html": [
       "<div>\n",
       "<style scoped>\n",
       "    .dataframe tbody tr th:only-of-type {\n",
       "        vertical-align: middle;\n",
       "    }\n",
       "\n",
       "    .dataframe tbody tr th {\n",
       "        vertical-align: top;\n",
       "    }\n",
       "\n",
       "    .dataframe thead th {\n",
       "        text-align: right;\n",
       "    }\n",
       "</style>\n",
       "<table border=\"1\" class=\"dataframe\">\n",
       "  <thead>\n",
       "    <tr style=\"text-align: right;\">\n",
       "      <th></th>\n",
       "      <th>distance_shift</th>\n",
       "      <th>cos_similarity_shift</th>\n",
       "    </tr>\n",
       "  </thead>\n",
       "  <tbody>\n",
       "    <tr>\n",
       "      <th>bertuu_test_baseline</th>\n",
       "      <td>0.843333</td>\n",
       "      <td>0.853333</td>\n",
       "    </tr>\n",
       "  </tbody>\n",
       "</table>\n",
       "</div>"
      ],
      "text/plain": [
       "                      distance_shift  cos_similarity_shift\n",
       "bertuu_test_baseline        0.843333              0.853333"
      ]
     },
     "execution_count": 5,
     "metadata": {},
     "output_type": "execute_result"
    }
   ],
   "source": [
    "result = RunEval(problem=Problem(\"Data/SLPWC_v1.csv\",name='SLPWC'))\n",
    "result"
   ]
  },
  {
   "cell_type": "code",
   "execution_count": 6,
   "id": "07fe38e8",
   "metadata": {},
   "outputs": [
    {
     "data": {
      "text/html": [
       "<div>\n",
       "<style scoped>\n",
       "    .dataframe tbody tr th:only-of-type {\n",
       "        vertical-align: middle;\n",
       "    }\n",
       "\n",
       "    .dataframe tbody tr th {\n",
       "        vertical-align: top;\n",
       "    }\n",
       "\n",
       "    .dataframe thead th {\n",
       "        text-align: right;\n",
       "    }\n",
       "</style>\n",
       "<table border=\"1\" class=\"dataframe\">\n",
       "  <thead>\n",
       "    <tr style=\"text-align: right;\">\n",
       "      <th></th>\n",
       "      <th>model</th>\n",
       "      <th>cos_similarity_shift</th>\n",
       "    </tr>\n",
       "  </thead>\n",
       "  <tbody>\n",
       "    <tr>\n",
       "      <th>bertuu_test_baseline</th>\n",
       "      <td>0.843333</td>\n",
       "      <td>0.853333</td>\n",
       "    </tr>\n",
       "  </tbody>\n",
       "</table>\n",
       "</div>"
      ],
      "text/plain": [
       "                         model  cos_similarity_shift\n",
       "bertuu_test_baseline  0.843333              0.853333"
      ]
     },
     "execution_count": 6,
     "metadata": {},
     "output_type": "execute_result"
    }
   ],
   "source": [
    "# columns = ['model', 'distance_shift', 'cos_similarity_shift']\n",
    "result.insert(0, 'model', result.iloc[:, 0])\n",
    "result.drop(result.columns[1], axis=1, inplace=True) \n",
    "\n",
    "result"
   ]
  },
  {
   "cell_type": "code",
   "execution_count": 7,
   "id": "3653a30f-35e3-4aff-b541-143ff33592af",
   "metadata": {},
   "outputs": [
    {
     "data": {
      "image/png": "[encoded data removed]",
      "text/plain": [
       "<Figure size 1000x600 with 1 Axes>"
      ]
     },
     "metadata": {},
     "output_type": "display_data"
    }
   ],
   "source": [
    "import matplotlib.pyplot as plt\n",
    "import pandas as pd\n",
    "\n",
    "# 创建 DataFrame\n",
    "data = {\n",
    "    \"model\": [solver.name for solver in solvers],\n",
    "    \"distance_shift\": [result.iloc[i, 0] for i in range(len(solvers))],\n",
    "    \"cos_similarity_shift\": [result.iloc[i, 1] for i in range(len(solvers))]\n",
    "}\n",
    "\n",
    "df = pd.DataFrame(data)\n",
    "\n",
    "# 添加重复次数列\n",
    "df['repetitions'] = df['model'].apply(lambda x: 0 if 'baseline' in x else x.count('v') - 1)\n",
    "\n",
    "# 绘制图表\n",
    "plt.figure(figsize=(10, 6))\n",
    "\n",
    "# 绘制欧氏距离和余弦相似度\n",
    "plt.plot(df['repetitions'][1:], df['distance_shift'][1:], marker='o', color='b', label='Distance Shift')\n",
    "plt.plot(df['repetitions'][1:], df['cos_similarity_shift'][1:], marker='o', color='g', label='Cosine Similarity Shift')\n",
    "\n",
    "# 添加 baseline 虚线\n",
    "baseline_distance = df[df['model'].str.contains('baseline')]['distance_shift'].values[0]\n",
    "baseline_cosine = df[df['model'].str.contains('baseline')]['cos_similarity_shift'].values[0]\n",
    "plt.axhline(y=baseline_distance, color='b', linestyle='--', label='Baseline (Distance Shift)')\n",
    "plt.axhline(y=baseline_cosine, color='g', linestyle='--', label='Baseline (Cosine Similarity Shift)')\n",
    "\n",
    "# 图表标题和标签'\n",
    "plt.title('Impact of Repetitions on Distance and Cosine Similarity Shifts with {} Model'.format(model_name))\n",
    "plt.xlabel('Repetitions')\n",
    "plt.ylabel('Shift Values')\n",
    "plt.xticks(df['repetitions'])\n",
    "plt.legend()\n",
    "plt.grid(True)\n",
    "\n",
    "plt.tight_layout()\n",
    "plt.show()\n"
   ]
  },
  {
   "cell_type": "markdown",
   "id": "96992458-6533-4a2d-8877-03a571d53d78",
   "metadata": {},
   "source": [
    "## 数据集 2: WSD"
   ]
  },
  {
   "cell_type": "code",
   "execution_count": 11,
   "id": "d2b4ca51-56a4-4461-a14f-af96071ba0f3",
   "metadata": {},
   "outputs": [
    {
     "name": "stdout",
     "output_type": "stream",
     "text": [
      "利用 bertuu_test_baseline 计算目标词的向量嵌入：\n"
     ]
    },
    {
     "data": {
      "application/vnd.jupyter.widget-view+json": {
       "model_id": "a48a5108a8ef4ddb8911529278b1d900",
       "version_major": 2,
       "version_minor": 0
      },
      "text/plain": [
       "  0%|          | 0/862 [00:00<?, ?it/s]"
      ]
     },
     "metadata": {},
     "output_type": "display_data"
    },
    {
     "name": "stdout",
     "output_type": "stream",
     "text": [
      "没有找到词: 名称 \"君子疾没世而名不称焉。\n",
      "没有找到词: 那里 这儿瞧瞧,那儿看看,觉得什么都是新鲜的\n",
      "没有找到词: 龃龉 我们从未和邻居发生过一次龃龉\n",
      "没有找到词: 龃龉 原来放下一切的放松才是真正的愉快。没有罅隙，没有龃龉，没有试探，没有考量，没有阻碍，像是两个滑蛋从滑梯上滚落，毫无障碍的一生……，可惜，当我们面对这个世界的时候，能放下一切去爱的可能根本不存在\n",
      "没有找到词: 龃龉 圆凿而方枘兮，吾固知其龃龉而难入\n",
      "没有找到词: 龃龉 无论是对手足深情的正面展示，还是对手足龃龉的反面剖析，追求手足关系的敦睦乃灌注其中的本质内容\n",
      "没有找到词: 精简 精选人物\n",
      "没有找到词: 摄影 骋足则能追风摄景\n",
      "保存文件： Temp/temp_embeddings_WSD_bertuu_test_baseline.dat\n"
     ]
    },
    {
     "data": {
      "text/html": [
       "<div>\n",
       "<style scoped>\n",
       "    .dataframe tbody tr th:only-of-type {\n",
       "        vertical-align: middle;\n",
       "    }\n",
       "\n",
       "    .dataframe tbody tr th {\n",
       "        vertical-align: top;\n",
       "    }\n",
       "\n",
       "    .dataframe thead th {\n",
       "        text-align: right;\n",
       "    }\n",
       "</style>\n",
       "<table border=\"1\" class=\"dataframe\">\n",
       "  <thead>\n",
       "    <tr style=\"text-align: right;\">\n",
       "      <th></th>\n",
       "      <th>distance_shift</th>\n",
       "      <th>cos_similarity_shift</th>\n",
       "    </tr>\n",
       "  </thead>\n",
       "  <tbody>\n",
       "    <tr>\n",
       "      <th>bertuu_test_baseline</th>\n",
       "      <td>0.610209</td>\n",
       "      <td>0.607889</td>\n",
       "    </tr>\n",
       "  </tbody>\n",
       "</table>\n",
       "</div>"
      ],
      "text/plain": [
       "                      distance_shift  cos_similarity_shift\n",
       "bertuu_test_baseline        0.610209              0.607889"
      ]
     },
     "execution_count": 11,
     "metadata": {},
     "output_type": "execute_result"
    }
   ],
   "source": [
    "RunEval(problem=Problem('Data/WSD_v1.csv',name='WSD'))"
   ]
  }
 ],
 "metadata": {
  "kernelspec": {
   "display_name": "llm",
   "language": "python",
   "name": "python3"
  },
  "language_info": {
   "codemirror_mode": {
    "name": "ipython",
    "version": 3
   },
   "file_extension": ".py",
   "mimetype": "text/x-python",
   "name": "python",
   "nbconvert_exporter": "python",
   "pygments_lexer": "ipython3",
   "version": "3.9.0"
  }
 },
 "nbformat": 4,
 "nbformat_minor": 5
}
